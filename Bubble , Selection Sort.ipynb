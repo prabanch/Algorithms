{
 "cells": [
  {
   "cell_type": "markdown",
   "id": "b1d72a3e-a587-4631-80a9-e174dd2c11b5",
   "metadata": {},
   "source": [
    "# Bubble Sort"
   ]
  },
  {
   "cell_type": "code",
   "execution_count": 4,
   "id": "b6b4c302-ac31-4078-94fb-77c051dea958",
   "metadata": {},
   "outputs": [
    {
     "name": "stdout",
     "output_type": "stream",
     "text": [
      "Sorted array is: [1, 2, 4, 5, 8]\n"
     ]
    }
   ],
   "source": [
    "def bubbleSort(arr):\n",
    "    n = len(arr)\n",
    "    # Traverse through all array elements\n",
    "    for i in range(n):\n",
    "        # Last i elements are already in place\n",
    "        for j in range(0, n-i-1): \n",
    "            # traverse the array from 0 to n-i-1\n",
    "            # Swap if the element found is greater\n",
    "            # than the next element\n",
    "            if arr[j] > arr[j+1]:\n",
    "                arr[j], arr[j+1] = arr[j+1], arr[j]\n",
    "\n",
    "arr = [5, 1, 4, 2, 8]\n",
    "bubbleSort(arr)\n",
    "print(\"Sorted array is:\", arr)"
   ]
  },
  {
   "cell_type": "markdown",
   "id": "0109cf67-bfbc-47f4-8365-cc759fb0ca87",
   "metadata": {},
   "source": [
    "##### Time Complexity: O(N2)\n",
    "##### Auxiliary Space: O(1) "
   ]
  },
  {
   "cell_type": "markdown",
   "id": "9dd12f10-e139-475a-8c36-96c5279f75e6",
   "metadata": {},
   "source": [
    "# Selection Sort"
   ]
  },
  {
   "cell_type": "code",
   "execution_count": 5,
   "id": "8fa768db-8d18-403c-8374-47fd965dd1d8",
   "metadata": {},
   "outputs": [
    {
     "name": "stdout",
     "output_type": "stream",
     "text": [
      "Sorted Array in Ascending Order:\n",
      "[-9, -2, 0, 11, 45]\n"
     ]
    }
   ],
   "source": [
    "#selection sort\n",
    "\n",
    "def selection_sort(array_1):\n",
    "    for i in range(len(array_1)):\n",
    "        min_index = i \n",
    "        for j in range(i+1, len(array_1)):\n",
    "            if array_1[j] <  array_1[min_index]:                \n",
    "                min_index = j \n",
    "        array_1[i], array_1[min_index] = array_1[min_index], array_1[i]\n",
    "data = [-2, 45, 0, 11, -9]\n",
    "\n",
    "selection_sort(data)\n",
    "\n",
    "print('Sorted Array in Ascending Order:')\n",
    "print(data)  "
   ]
  },
  {
   "cell_type": "markdown",
   "id": "cbc57f02-253c-4a77-b097-f1f5fe229d9b",
   "metadata": {},
   "source": [
    "##### Time Complexity: O(N2)\n",
    "##### Auxiliary Space: O(1) "
   ]
  }
 ],
 "metadata": {
  "kernelspec": {
   "display_name": "Python 3 (ipykernel)",
   "language": "python",
   "name": "python3"
  },
  "language_info": {
   "codemirror_mode": {
    "name": "ipython",
    "version": 3
   },
   "file_extension": ".py",
   "mimetype": "text/x-python",
   "name": "python",
   "nbconvert_exporter": "python",
   "pygments_lexer": "ipython3",
   "version": "3.9.13"
  }
 },
 "nbformat": 4,
 "nbformat_minor": 5
}
